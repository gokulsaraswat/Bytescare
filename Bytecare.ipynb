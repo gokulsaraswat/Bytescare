{
 "cells": [
  {
   "cell_type": "code",
   "execution_count": 75,
   "id": "aa32251d",
   "metadata": {},
   "outputs": [],
   "source": [
    "'''Write a program to extract text from any given audio and then using text-to-speech synthesis output as another audio file.\n",
    "\n",
    "Input: Audio File\n",
    "Output: Text To Speech Synthesis Audio File\n",
    "\n",
    "Partial Acceptable Solution: None\n",
    "Complete solution: Expected output as suggested'''"
   ]
  },
  {
   "cell_type": "code",
   "execution_count": null,
   "id": "c72022ab",
   "metadata": {},
   "outputs": [],
   "source": [
    "import speech_recognition as sr\n",
    "from gtts import gTTS"
   ]
  },
  {
   "cell_type": "code",
   "execution_count": 76,
   "id": "562fb003",
   "metadata": {},
   "outputs": [],
   "source": [
    "r = sr.Recognizer()"
   ]
  },
  {
   "cell_type": "code",
   "execution_count": null,
   "id": "d142de71",
   "metadata": {},
   "outputs": [],
   "source": [
    "# Convert sound to text and print it\n",
    "# Use .wav format for sound \n",
    "print(\"Program Speech to text Initiated\")\n",
    "\n",
    "# Replace with the sound present in concurrent folder\n",
    "sound = \"Recording.wav\"\n",
    "\n",
    "with sr.AudioFile(sound) as source:\n",
    "    audio = r.listen(source)\n",
    "    texy = r.recognize_google(audio)\n",
    "    print(texy)\n"
   ]
  },
  {
   "cell_type": "code",
   "execution_count": null,
   "id": "6379762b",
   "metadata": {},
   "outputs": [],
   "source": [
    "# Extract the saved text and Converted to new audio \n",
    "print(\"Program Text to Speech Initiated\")\n",
    "tts = gTTS(text=texy, lang='en')\n",
    "tts.save(\"textToSpeechVoice.mp3\")\n",
    "print(\"Text Converted Successfully \")"
   ]
  },
  {
   "cell_type": "code",
   "execution_count": null,
   "id": "1cedf20e",
   "metadata": {},
   "outputs": [],
   "source": [
    "'''Write a program to classify if a given image contains a human in it or not.\n",
    "Input: A image contains a human or no human\n",
    "Output: Prediction if the image contains a human or not\n",
    "Partial Acceptable Solution: >60% Accuracy\n",
    "Complete solution: >85% Accuracy\n",
    "Note: You have to use some image search engine to gather such data quickly or can use personal photos\n",
    "+ random wallpapers/images to train the model. You can share the model only, no need to share the actual \n",
    "images used for the model. Provide the model, with sample images and test code in a test folder to check\n",
    "the accuracy output from the model by providing images to it in a test folder.'''"
   ]
  },
  {
   "cell_type": "code",
   "execution_count": 5,
   "id": "e5712638",
   "metadata": {},
   "outputs": [
    {
     "ename": "NameError",
     "evalue": "name 'driver' is not defined",
     "output_type": "error",
     "traceback": [
      "\u001b[1;31m---------------------------------------------------------------------------\u001b[0m",
      "\u001b[1;31mNameError\u001b[0m                                 Traceback (most recent call last)",
      "Cell \u001b[1;32mIn[5], line 1\u001b[0m\n\u001b[1;32m----> 1\u001b[0m driver\u001b[39m.\u001b[39mget(\u001b[39m\"\u001b[39m\u001b[39mhttp://www.canwinconsulting.com/contact.html\u001b[39m\u001b[39m\"\u001b[39m)\n\u001b[0;32m      3\u001b[0m sleep(\u001b[39m5\u001b[39m)\n",
      "\u001b[1;31mNameError\u001b[0m: name 'driver' is not defined"
     ]
    }
   ],
   "source": [
    "\n",
    "driver.get(\"http://www.canwinconsulting.com/contact.html\")\n",
    "\n",
    "sleep(5)\n",
    "\n"
   ]
  }
 ],
 "metadata": {
  "kernelspec": {
   "display_name": "Python 3",
   "language": "python",
   "name": "python3"
  },
  "language_info": {
   "codemirror_mode": {
    "name": "ipython",
    "version": 3
   },
   "file_extension": ".py",
   "mimetype": "text/x-python",
   "name": "python",
   "nbconvert_exporter": "python",
   "pygments_lexer": "ipython3",
   "version": "3.10.9"
  },
  "vscode": {
   "interpreter": {
    "hash": "2dd77c17787a15aafbd043189e9b68f3722a4f4e874c811bee0feab39ba7bf8c"
   }
  }
 },
 "nbformat": 4,
 "nbformat_minor": 5
}
