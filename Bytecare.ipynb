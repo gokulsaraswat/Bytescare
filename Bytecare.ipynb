{
 "cells": [
  {
   "cell_type": "code",
   "execution_count": 75,
   "id": "aa32251d",
   "metadata": {},
   "outputs": [],
   "source": [
    "'''Write a program to extract text from any given audio and then using text-to-speech synthesis output as another audio file.\n",
    "\n",
    "Input: Audio File\n",
    "Output: Text To Speech Synthesis Audio File\n",
    "\n",
    "Partial Acceptable Solution: None\n",
    "Complete solution: Expected output as suggested'''"
   ]
  },
  {
   "cell_type": "code",
   "execution_count": null,
   "id": "c72022ab",
   "metadata": {},
   "outputs": [],
   "source": [
    "import speech_recognition as sr\n",
    "from gtts import gTTS"
   ]
  },
  {
   "cell_type": "code",
   "execution_count": 76,
   "id": "562fb003",
   "metadata": {},
   "outputs": [],
   "source": [
    "r = sr.Recognizer()"
   ]
  },
  {
   "cell_type": "code",
   "execution_count": null,
   "id": "d142de71",
   "metadata": {},
   "outputs": [],
   "source": [
    "# Convert sound to text and print it\n",
    "# Use .wav format for sound \n",
    "print(\"Program Speech to text Initiated\")\n",
    "\n",
    "# Replace with the sound present in concurrent folder\n",
    "sound = \"Recording.wav\"\n",
    "\n",
    "with sr.AudioFile(sound) as source:\n",
    "    audio = r.listen(source)\n",
    "    texy = r.recognize_google(audio)\n",
    "    print(texy)\n"
   ]
  },
  {
   "cell_type": "code",
   "execution_count": null,
   "id": "6379762b",
   "metadata": {},
   "outputs": [],
   "source": [
    "# Extract the saved text and Converted to new audio \n",
    "print(\"Program Text to Speech Initiated\")\n",
    "tts = gTTS(text=texy, lang='en')\n",
    "tts.save(\"textToSpeechVoice.mp3\")\n",
    "print(\"Text Converted Successfully \")"
   ]
  },
  {
   "cell_type": "code",
   "execution_count": null,
   "id": "1cedf20e",
   "metadata": {},
   "outputs": [],
   "source": [
    "'''Write a program to classify if a given image contains a human in it or not.\n",
    "Input: A image contains a human or no human\n",
    "Output: Prediction if the image contains a human or not\n",
    "Partial Acceptable Solution: >60% Accuracy\n",
    "Complete solution: >85% Accuracy\n",
    "Note: You have to use some image search engine to gather such data quickly or can use personal photos\n",
    "+ random wallpapers/images to train the model. You can share the model only, no need to share the actual \n",
    "images used for the model. Provide the model, with sample images and test code in a test folder to check\n",
    "the accuracy output from the model by providing images to it in a test folder.'''"
   ]
  },
  {
   "cell_type": "code",
   "execution_count": 18,
   "id": "a5c9bef0",
   "metadata": {},
   "outputs": [
    {
     "ename": "NoSuchElementException",
     "evalue": "Message: no such element: Unable to locate element: {\"method\":\"css selector\",\"selector\":\"[id=\"contact-name\"]\"}\n  (Session info: MicrosoftEdge=109.0.1518.78)\nStacktrace:\nBacktrace:\n\tMicrosoft::Applications::Events::EventProperties::SetProperty [0x00007FF61A7D16C2+15186]\n\tMicrosoft::Applications::Events::EventProperty::EventProperty [0x00007FF61A76A212+827554]\n\t(No symbol) [0x00007FF61A42ED90]\n\t(No symbol) [0x00007FF61A472225]\n\t(No symbol) [0x00007FF61A4723AC]\n\t(No symbol) [0x00007FF61A4AE087]\n\t(No symbol) [0x00007FF61A491F8F]\n\t(No symbol) [0x00007FF61A464C3E]\n\t(No symbol) [0x00007FF61A4AB513]\n\t(No symbol) [0x00007FF61A491D23]\n\t(No symbol) [0x00007FF61A463B80]\n\t(No symbol) [0x00007FF61A462B0E]\n\t(No symbol) [0x00007FF61A464344]\n\tMicrosoft::Applications::Events::EventProperties::SetProperty [0x00007FF61A64C3B0+182752]\n\t(No symbol) [0x00007FF61A520095]\n\tMicrosoft::Applications::Events::EventProperty::EventProperty [0x00007FF61A6AA6EA+42362]\n\tMicrosoft::Applications::Events::EventProperty::EventProperty [0x00007FF61A6AD425+53941]\n\tMicrosoft::Applications::Events::ILogManager::DispatchEventBroadcast [0x00007FF61A9C8AB3+1456595]\n\tMicrosoft::Applications::Events::EventProperty::EventProperty [0x00007FF61A77276A+861690]\n\tMicrosoft::Applications::Events::EventProperty::EventProperty [0x00007FF61A777854+882404]\n\tMicrosoft::Applications::Events::EventProperty::EventProperty [0x00007FF61A7779AC+882748]\n\tMicrosoft::Applications::Events::EventProperty::EventProperty [0x00007FF61A78097E+919566]\n\tBaseThreadInitThunk [0x00007FF94E2C7614+20]\n\tRtlUserThreadStart [0x00007FF94F6826A1+33]\n",
     "output_type": "error",
     "traceback": [
      "\u001b[1;31m---------------------------------------------------------------------------\u001b[0m",
      "\u001b[1;31mNoSuchElementException\u001b[0m                    Traceback (most recent call last)",
      "Cell \u001b[1;32mIn[18], line 10\u001b[0m\n\u001b[0;32m      7\u001b[0m driver\u001b[39m.\u001b[39mget(\u001b[39m\"\u001b[39m\u001b[39mhttps://www.bookchor.com/Contact\u001b[39m\u001b[39m\"\u001b[39m)\n\u001b[0;32m      9\u001b[0m \u001b[39m# Locate the form elements\u001b[39;00m\n\u001b[1;32m---> 10\u001b[0m fullname \u001b[39m=\u001b[39m driver\u001b[39m.\u001b[39;49mfind_element(\u001b[39m\"\u001b[39;49m\u001b[39mid\u001b[39;49m\u001b[39m\"\u001b[39;49m,\u001b[39m\"\u001b[39;49m\u001b[39mcontact-name\u001b[39;49m\u001b[39m\"\u001b[39;49m)\n\u001b[0;32m     11\u001b[0m email \u001b[39m=\u001b[39m driver\u001b[39m.\u001b[39mfind_element_by_css_selector(\u001b[39m\"\u001b[39m\u001b[39mid\u001b[39m\u001b[39m\"\u001b[39m,\u001b[39m\"\u001b[39m\u001b[39mcontact-email\u001b[39m\u001b[39m\"\u001b[39m)\n\u001b[0;32m     12\u001b[0m message \u001b[39m=\u001b[39m driver\u001b[39m.\u001b[39mfind_element_by_css_selector(\u001b[39m\"\u001b[39m\u001b[39mid\u001b[39m\u001b[39m\"\u001b[39m,\u001b[39m\"\u001b[39m\u001b[39mcontact-message\u001b[39m\u001b[39m\"\u001b[39m)\n",
      "File \u001b[1;32m~\\AppData\\Local\\Packages\\PythonSoftwareFoundation.Python.3.10_qbz5n2kfra8p0\\LocalCache\\local-packages\\Python310\\site-packages\\selenium\\webdriver\\remote\\webdriver.py:830\u001b[0m, in \u001b[0;36mWebDriver.find_element\u001b[1;34m(self, by, value)\u001b[0m\n\u001b[0;32m    827\u001b[0m     by \u001b[39m=\u001b[39m By\u001b[39m.\u001b[39mCSS_SELECTOR\n\u001b[0;32m    828\u001b[0m     value \u001b[39m=\u001b[39m \u001b[39mf\u001b[39m\u001b[39m'\u001b[39m\u001b[39m[name=\u001b[39m\u001b[39m\"\u001b[39m\u001b[39m{\u001b[39;00mvalue\u001b[39m}\u001b[39;00m\u001b[39m\"\u001b[39m\u001b[39m]\u001b[39m\u001b[39m'\u001b[39m\n\u001b[1;32m--> 830\u001b[0m \u001b[39mreturn\u001b[39;00m \u001b[39mself\u001b[39;49m\u001b[39m.\u001b[39;49mexecute(Command\u001b[39m.\u001b[39;49mFIND_ELEMENT, {\u001b[39m\"\u001b[39;49m\u001b[39musing\u001b[39;49m\u001b[39m\"\u001b[39;49m: by, \u001b[39m\"\u001b[39;49m\u001b[39mvalue\u001b[39;49m\u001b[39m\"\u001b[39;49m: value})[\u001b[39m\"\u001b[39m\u001b[39mvalue\u001b[39m\u001b[39m\"\u001b[39m]\n",
      "File \u001b[1;32m~\\AppData\\Local\\Packages\\PythonSoftwareFoundation.Python.3.10_qbz5n2kfra8p0\\LocalCache\\local-packages\\Python310\\site-packages\\selenium\\webdriver\\remote\\webdriver.py:440\u001b[0m, in \u001b[0;36mWebDriver.execute\u001b[1;34m(self, driver_command, params)\u001b[0m\n\u001b[0;32m    438\u001b[0m response \u001b[39m=\u001b[39m \u001b[39mself\u001b[39m\u001b[39m.\u001b[39mcommand_executor\u001b[39m.\u001b[39mexecute(driver_command, params)\n\u001b[0;32m    439\u001b[0m \u001b[39mif\u001b[39;00m response:\n\u001b[1;32m--> 440\u001b[0m     \u001b[39mself\u001b[39;49m\u001b[39m.\u001b[39;49merror_handler\u001b[39m.\u001b[39;49mcheck_response(response)\n\u001b[0;32m    441\u001b[0m     response[\u001b[39m\"\u001b[39m\u001b[39mvalue\u001b[39m\u001b[39m\"\u001b[39m] \u001b[39m=\u001b[39m \u001b[39mself\u001b[39m\u001b[39m.\u001b[39m_unwrap_value(response\u001b[39m.\u001b[39mget(\u001b[39m\"\u001b[39m\u001b[39mvalue\u001b[39m\u001b[39m\"\u001b[39m, \u001b[39mNone\u001b[39;00m))\n\u001b[0;32m    442\u001b[0m     \u001b[39mreturn\u001b[39;00m response\n",
      "File \u001b[1;32m~\\AppData\\Local\\Packages\\PythonSoftwareFoundation.Python.3.10_qbz5n2kfra8p0\\LocalCache\\local-packages\\Python310\\site-packages\\selenium\\webdriver\\remote\\errorhandler.py:245\u001b[0m, in \u001b[0;36mErrorHandler.check_response\u001b[1;34m(self, response)\u001b[0m\n\u001b[0;32m    243\u001b[0m         alert_text \u001b[39m=\u001b[39m value[\u001b[39m\"\u001b[39m\u001b[39malert\u001b[39m\u001b[39m\"\u001b[39m]\u001b[39m.\u001b[39mget(\u001b[39m\"\u001b[39m\u001b[39mtext\u001b[39m\u001b[39m\"\u001b[39m)\n\u001b[0;32m    244\u001b[0m     \u001b[39mraise\u001b[39;00m exception_class(message, screen, stacktrace, alert_text)  \u001b[39m# type: ignore[call-arg]  # mypy is not smart enough here\u001b[39;00m\n\u001b[1;32m--> 245\u001b[0m \u001b[39mraise\u001b[39;00m exception_class(message, screen, stacktrace)\n",
      "\u001b[1;31mNoSuchElementException\u001b[0m: Message: no such element: Unable to locate element: {\"method\":\"css selector\",\"selector\":\"[id=\"contact-name\"]\"}\n  (Session info: MicrosoftEdge=109.0.1518.78)\nStacktrace:\nBacktrace:\n\tMicrosoft::Applications::Events::EventProperties::SetProperty [0x00007FF61A7D16C2+15186]\n\tMicrosoft::Applications::Events::EventProperty::EventProperty [0x00007FF61A76A212+827554]\n\t(No symbol) [0x00007FF61A42ED90]\n\t(No symbol) [0x00007FF61A472225]\n\t(No symbol) [0x00007FF61A4723AC]\n\t(No symbol) [0x00007FF61A4AE087]\n\t(No symbol) [0x00007FF61A491F8F]\n\t(No symbol) [0x00007FF61A464C3E]\n\t(No symbol) [0x00007FF61A4AB513]\n\t(No symbol) [0x00007FF61A491D23]\n\t(No symbol) [0x00007FF61A463B80]\n\t(No symbol) [0x00007FF61A462B0E]\n\t(No symbol) [0x00007FF61A464344]\n\tMicrosoft::Applications::Events::EventProperties::SetProperty [0x00007FF61A64C3B0+182752]\n\t(No symbol) [0x00007FF61A520095]\n\tMicrosoft::Applications::Events::EventProperty::EventProperty [0x00007FF61A6AA6EA+42362]\n\tMicrosoft::Applications::Events::EventProperty::EventProperty [0x00007FF61A6AD425+53941]\n\tMicrosoft::Applications::Events::ILogManager::DispatchEventBroadcast [0x00007FF61A9C8AB3+1456595]\n\tMicrosoft::Applications::Events::EventProperty::EventProperty [0x00007FF61A77276A+861690]\n\tMicrosoft::Applications::Events::EventProperty::EventProperty [0x00007FF61A777854+882404]\n\tMicrosoft::Applications::Events::EventProperty::EventProperty [0x00007FF61A7779AC+882748]\n\tMicrosoft::Applications::Events::EventProperty::EventProperty [0x00007FF61A78097E+919566]\n\tBaseThreadInitThunk [0x00007FF94E2C7614+20]\n\tRtlUserThreadStart [0x00007FF94F6826A1+33]\n"
     ]
    }
   ],
   "source": [
    "from selenium import webdriver\n",
    "from time import sleep\n",
    "\n",
    "\n",
    "# Open the browser and navigate to the URL\n",
    "driver = webdriver.Edge()\n",
    "driver.get(\"https://www.bookchor.com/Contact\")\n",
    "\n",
    "# Locate the form elements\n",
    "fullname = driver.find_element(\"id\",\"contacts-name\")\n",
    "email = driver.find_element(\"id\",\"contacts-email\")\n",
    "message = driver.find_element(\"id\",\"contacts-message\")\n",
    "\n",
    "# Fill the form elements\n",
    "fullname.send_keys(\"John Kola\")\n",
    "email.send_keys(\"lolu@lolu.lolu\")\n",
    "message.send_keys(\"Hello My name is lolu\")\n",
    "\n",
    "sleep(50)\n",
    "driver.quit()"
   ]
  }
 ],
 "metadata": {
  "kernelspec": {
   "display_name": "Python 3",
   "language": "python",
   "name": "python3"
  },
  "language_info": {
   "codemirror_mode": {
    "name": "ipython",
    "version": 3
   },
   "file_extension": ".py",
   "mimetype": "text/x-python",
   "name": "python",
   "nbconvert_exporter": "python",
   "pygments_lexer": "ipython3",
   "version": "3.10.9"
  },
  "vscode": {
   "interpreter": {
    "hash": "2dd77c17787a15aafbd043189e9b68f3722a4f4e874c811bee0feab39ba7bf8c"
   }
  }
 },
 "nbformat": 4,
 "nbformat_minor": 5
}
